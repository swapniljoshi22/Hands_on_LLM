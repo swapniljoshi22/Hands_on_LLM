{
  "nbformat": 4,
  "nbformat_minor": 0,
  "metadata": {
    "colab": {
      "provenance": []
    },
    "kernelspec": {
      "name": "python3",
      "display_name": "Python 3"
    },
    "language_info": {
      "name": "python"
    },
    "widgets": {
      "application/vnd.jupyter.widget-state+json": {
        "48821d25baea43cab75915346fc2c057": {
          "model_module": "@jupyter-widgets/controls",
          "model_name": "HBoxModel",
          "model_module_version": "1.5.0",
          "state": {
            "_dom_classes": [],
            "_model_module": "@jupyter-widgets/controls",
            "_model_module_version": "1.5.0",
            "_model_name": "HBoxModel",
            "_view_count": null,
            "_view_module": "@jupyter-widgets/controls",
            "_view_module_version": "1.5.0",
            "_view_name": "HBoxView",
            "box_style": "",
            "children": [
              "IPY_MODEL_4ee3a0a7636447aa84c17afd998997b1",
              "IPY_MODEL_e00078e6ab0645fda5f3bf5dd75bd075",
              "IPY_MODEL_5beab7387dc44775b2d4f4109c145da8"
            ],
            "layout": "IPY_MODEL_24af1bd3cfe24c5eac74fff8fa36b893"
          }
        },
        "109e44d7dab24eb382813d3295e60e4b": {
          "model_module": "@jupyter-widgets/controls",
          "model_name": "HBoxModel",
          "model_module_version": "1.5.0",
          "state": {
            "_dom_classes": [],
            "_model_module": "@jupyter-widgets/controls",
            "_model_module_version": "1.5.0",
            "_model_name": "HBoxModel",
            "_view_count": null,
            "_view_module": "@jupyter-widgets/controls",
            "_view_module_version": "1.5.0",
            "_view_name": "HBoxView",
            "box_style": "",
            "children": [
              "IPY_MODEL_95b776a7ef0448c190ab6bfaf0fb5d7e",
              "IPY_MODEL_297aff21838a4ee19671f00a8dca6eb3",
              "IPY_MODEL_f70cf3fc5a004210bea136b1669c806a"
            ],
            "layout": "IPY_MODEL_f79ef8e3aca5486a8db2d5559cbcf943"
          }
        },
        "d10d6cbb757a4dba8ad693d81d696f99": {
          "model_module": "@jupyter-widgets/controls",
          "model_name": "HBoxModel",
          "model_module_version": "1.5.0",
          "state": {
            "_dom_classes": [],
            "_model_module": "@jupyter-widgets/controls",
            "_model_module_version": "1.5.0",
            "_model_name": "HBoxModel",
            "_view_count": null,
            "_view_module": "@jupyter-widgets/controls",
            "_view_module_version": "1.5.0",
            "_view_name": "HBoxView",
            "box_style": "",
            "children": [
              "IPY_MODEL_b943fc440ec146d6850e3f739621e163",
              "IPY_MODEL_bc6772790c6d4bf88506d7da97a4b2de",
              "IPY_MODEL_db757769b67a45eda02885a62b8044db"
            ],
            "layout": "IPY_MODEL_74db258f1a904e54bb06cedbb3440c9d"
          }
        },
        "4744f506fcfb49d0849a254bcad23674": {
          "model_module": "@jupyter-widgets/controls",
          "model_name": "HBoxModel",
          "model_module_version": "1.5.0",
          "state": {
            "_dom_classes": [],
            "_model_module": "@jupyter-widgets/controls",
            "_model_module_version": "1.5.0",
            "_model_name": "HBoxModel",
            "_view_count": null,
            "_view_module": "@jupyter-widgets/controls",
            "_view_module_version": "1.5.0",
            "_view_name": "HBoxView",
            "box_style": "",
            "children": [
              "IPY_MODEL_42b1df4367da45f8a42598209c25cb3a",
              "IPY_MODEL_2747a8e8c9634dcd92bce8438caf7f9f",
              "IPY_MODEL_145f9c653e594a4cbb93cd54148a9e0f"
            ],
            "layout": "IPY_MODEL_00c8eb08144b4adeb45f1d2f3cdbd923"
          }
        },
        "eef660ba26ee4e93833352a5e6966a59": {
          "model_module": "@jupyter-widgets/controls",
          "model_name": "HBoxModel",
          "model_module_version": "1.5.0",
          "state": {
            "_dom_classes": [],
            "_model_module": "@jupyter-widgets/controls",
            "_model_module_version": "1.5.0",
            "_model_name": "HBoxModel",
            "_view_count": null,
            "_view_module": "@jupyter-widgets/controls",
            "_view_module_version": "1.5.0",
            "_view_name": "HBoxView",
            "box_style": "",
            "children": [
              "IPY_MODEL_f5aaca48ea1f4837969f3cc1aafe747b",
              "IPY_MODEL_c140940b864f4207807e858928847e3f",
              "IPY_MODEL_4bd7f2ac4d544833a930ac1dfe8ab797"
            ],
            "layout": "IPY_MODEL_b0b2f4a2ea8a4939bbeac70f4f11b858"
          }
        },
        "7859217133bf48e3bf43446859485852": {
          "model_module": "@jupyter-widgets/controls",
          "model_name": "HBoxModel",
          "model_module_version": "1.5.0",
          "state": {
            "_dom_classes": [],
            "_model_module": "@jupyter-widgets/controls",
            "_model_module_version": "1.5.0",
            "_model_name": "HBoxModel",
            "_view_count": null,
            "_view_module": "@jupyter-widgets/controls",
            "_view_module_version": "1.5.0",
            "_view_name": "HBoxView",
            "box_style": "",
            "children": [
              "IPY_MODEL_5215ea30a83c4122a33d7934c80cdb1a",
              "IPY_MODEL_674069f943a44d61828acd4a0cd1a5f3",
              "IPY_MODEL_e2f25a59a10c4fef9cef273bc4f04557"
            ],
            "layout": "IPY_MODEL_ad7af381ab91493cb26fa06709444eb7"
          }
        },
        "1500be4e65264222b2806d2b12f98978": {
          "model_module": "@jupyter-widgets/controls",
          "model_name": "HBoxModel",
          "model_module_version": "1.5.0",
          "state": {
            "_dom_classes": [],
            "_model_module": "@jupyter-widgets/controls",
            "_model_module_version": "1.5.0",
            "_model_name": "HBoxModel",
            "_view_count": null,
            "_view_module": "@jupyter-widgets/controls",
            "_view_module_version": "1.5.0",
            "_view_name": "HBoxView",
            "box_style": "",
            "children": [
              "IPY_MODEL_92f7486ad9a54eb29bd201f00f113e4b",
              "IPY_MODEL_6e23a3b540fa478b91748ddf8ded2e63",
              "IPY_MODEL_55c441b215644484beb0978fc3bce223"
            ],
            "layout": "IPY_MODEL_43bbfe63f3524dda892ab052101a6fad"
          }
        },
        "cd846e5d52904fe4a78cb5cb354307cf": {
          "model_module": "@jupyter-widgets/controls",
          "model_name": "HBoxModel",
          "model_module_version": "1.5.0",
          "state": {
            "_dom_classes": [],
            "_model_module": "@jupyter-widgets/controls",
            "_model_module_version": "1.5.0",
            "_model_name": "HBoxModel",
            "_view_count": null,
            "_view_module": "@jupyter-widgets/controls",
            "_view_module_version": "1.5.0",
            "_view_name": "HBoxView",
            "box_style": "",
            "children": [
              "IPY_MODEL_e4f2bc2301714e039828fe9b1c82476d",
              "IPY_MODEL_6eb541792aa243bc8615e1a66bf6d90c",
              "IPY_MODEL_bd154b4c63894116b909cba71225159f"
            ],
            "layout": "IPY_MODEL_f9405de4e8944ef9a30f5b9559001abf"
          }
        },
        "a01e07713fa74315a94f1bdaf0d3baf9": {
          "model_module": "@jupyter-widgets/controls",
          "model_name": "HBoxModel",
          "model_module_version": "1.5.0",
          "state": {
            "_dom_classes": [],
            "_model_module": "@jupyter-widgets/controls",
            "_model_module_version": "1.5.0",
            "_model_name": "HBoxModel",
            "_view_count": null,
            "_view_module": "@jupyter-widgets/controls",
            "_view_module_version": "1.5.0",
            "_view_name": "HBoxView",
            "box_style": "",
            "children": [
              "IPY_MODEL_ceab9d52648647c7a8cc258fccbde89a",
              "IPY_MODEL_21ac532eb7fb42439d6007f87f46dca3",
              "IPY_MODEL_eb010e040182445f8b6fc03d0ca79854"
            ],
            "layout": "IPY_MODEL_4fd5f8c349a6496cb95102f22ce3f9b9"
          }
        },
        "3b752a719d044bae8a6fe910ffa54b5c": {
          "model_module": "@jupyter-widgets/controls",
          "model_name": "HBoxModel",
          "model_module_version": "1.5.0",
          "state": {
            "_dom_classes": [],
            "_model_module": "@jupyter-widgets/controls",
            "_model_module_version": "1.5.0",
            "_model_name": "HBoxModel",
            "_view_count": null,
            "_view_module": "@jupyter-widgets/controls",
            "_view_module_version": "1.5.0",
            "_view_name": "HBoxView",
            "box_style": "",
            "children": [
              "IPY_MODEL_4c9d6d1060244d2e99adb16b3c8b9d2d",
              "IPY_MODEL_bae4853b088446cd8e8361876d45f489",
              "IPY_MODEL_b87203f7d4a74bf49876beef69e83996"
            ],
            "layout": "IPY_MODEL_be5bdd54e4f04b16ad41c3203964ddb3"
          }
        },
        "9e75769a48b84bb2bcfecebdeba21185": {
          "model_module": "@jupyter-widgets/controls",
          "model_name": "HBoxModel",
          "model_module_version": "1.5.0",
          "state": {
            "_dom_classes": [],
            "_model_module": "@jupyter-widgets/controls",
            "_model_module_version": "1.5.0",
            "_model_name": "HBoxModel",
            "_view_count": null,
            "_view_module": "@jupyter-widgets/controls",
            "_view_module_version": "1.5.0",
            "_view_name": "HBoxView",
            "box_style": "",
            "children": [
              "IPY_MODEL_f325f3393a954f87901edf8cb4ba2e2a",
              "IPY_MODEL_4b87313a08954ed69f1287fd6c8828b5",
              "IPY_MODEL_4706fef041ce4b3a85092e9d6fe1d701"
            ],
            "layout": "IPY_MODEL_c6a8ca6a3f7040d3b4dd0c6cdc07c653"
          }
        },
        "e11413900da94c29abe988f698a2b8c4": {
          "model_module": "@jupyter-widgets/controls",
          "model_name": "HBoxModel",
          "model_module_version": "1.5.0",
          "state": {
            "_dom_classes": [],
            "_model_module": "@jupyter-widgets/controls",
            "_model_module_version": "1.5.0",
            "_model_name": "HBoxModel",
            "_view_count": null,
            "_view_module": "@jupyter-widgets/controls",
            "_view_module_version": "1.5.0",
            "_view_name": "HBoxView",
            "box_style": "",
            "children": [
              "IPY_MODEL_63a5da17e82b43c3941d480c733905c5",
              "IPY_MODEL_d47b91cc4afe4a48848b11fc615d9f57",
              "IPY_MODEL_a56eca0cb93b4114aecc79786bae7df3"
            ],
            "layout": "IPY_MODEL_6cfc6c2a74cb41c6979f0dacc08adbba"
          }
        },
        "5685538172e14a1e8927c80da92425db": {
          "model_module": "@jupyter-widgets/controls",
          "model_name": "HBoxModel",
          "model_module_version": "1.5.0",
          "state": {
            "_dom_classes": [],
            "_model_module": "@jupyter-widgets/controls",
            "_model_module_version": "1.5.0",
            "_model_name": "HBoxModel",
            "_view_count": null,
            "_view_module": "@jupyter-widgets/controls",
            "_view_module_version": "1.5.0",
            "_view_name": "HBoxView",
            "box_style": "",
            "children": [
              "IPY_MODEL_3d9a44a6775c49aaa05f50fed298a8bf",
              "IPY_MODEL_9f83260816c64aa98e5559b06cdea2ca",
              "IPY_MODEL_e7ead5a15fc64843ab08104b8f3b8139"
            ],
            "layout": "IPY_MODEL_5941c89c2453481b994e78638a84ade5"
          }
        },
        "d24192b7bb8146bd8e8b0c5e73f19069": {
          "model_module": "@jupyter-widgets/controls",
          "model_name": "HBoxModel",
          "model_module_version": "1.5.0",
          "state": {
            "_dom_classes": [],
            "_model_module": "@jupyter-widgets/controls",
            "_model_module_version": "1.5.0",
            "_model_name": "HBoxModel",
            "_view_count": null,
            "_view_module": "@jupyter-widgets/controls",
            "_view_module_version": "1.5.0",
            "_view_name": "HBoxView",
            "box_style": "",
            "children": [
              "IPY_MODEL_6ef3c6312b954686af9d696cf817aac1",
              "IPY_MODEL_4acb388388fe405aa1d56b15d56686af",
              "IPY_MODEL_081a9f139ba146c9848857e344973715"
            ],
            "layout": "IPY_MODEL_da744646ee884e46ba42bf73241e75c0"
          }
        }
      }
    }
  },
  "cells": [
    {
      "cell_type": "code",
      "execution_count": null,
      "metadata": {
        "id": "6StovYPIPZro"
      },
      "outputs": [],
      "source": [
        "# Phi2"
      ]
    },
    {
      "cell_type": "code",
      "source": [
        "pip install transformers"
      ],
      "metadata": {
        "colab": {
          "base_uri": "https://localhost:8080/"
        },
        "id": "H2KOgBQfPtTD",
        "outputId": "79c1555d-0bca-49fe-bda0-92f52378b7d4"
      },
      "execution_count": null,
      "outputs": [
        {
          "output_type": "stream",
          "name": "stdout",
          "text": [
            "Requirement already satisfied: transformers in /usr/local/lib/python3.11/dist-packages (4.48.3)\n",
            "Requirement already satisfied: filelock in /usr/local/lib/python3.11/dist-packages (from transformers) (3.17.0)\n",
            "Requirement already satisfied: huggingface-hub<1.0,>=0.24.0 in /usr/local/lib/python3.11/dist-packages (from transformers) (0.28.1)\n",
            "Requirement already satisfied: numpy>=1.17 in /usr/local/lib/python3.11/dist-packages (from transformers) (1.26.4)\n",
            "Requirement already satisfied: packaging>=20.0 in /usr/local/lib/python3.11/dist-packages (from transformers) (24.2)\n",
            "Requirement already satisfied: pyyaml>=5.1 in /usr/local/lib/python3.11/dist-packages (from transformers) (6.0.2)\n",
            "Requirement already satisfied: regex!=2019.12.17 in /usr/local/lib/python3.11/dist-packages (from transformers) (2024.11.6)\n",
            "Requirement already satisfied: requests in /usr/local/lib/python3.11/dist-packages (from transformers) (2.32.3)\n",
            "Requirement already satisfied: tokenizers<0.22,>=0.21 in /usr/local/lib/python3.11/dist-packages (from transformers) (0.21.0)\n",
            "Requirement already satisfied: safetensors>=0.4.1 in /usr/local/lib/python3.11/dist-packages (from transformers) (0.5.2)\n",
            "Requirement already satisfied: tqdm>=4.27 in /usr/local/lib/python3.11/dist-packages (from transformers) (4.67.1)\n",
            "Requirement already satisfied: fsspec>=2023.5.0 in /usr/local/lib/python3.11/dist-packages (from huggingface-hub<1.0,>=0.24.0->transformers) (2024.10.0)\n",
            "Requirement already satisfied: typing-extensions>=3.7.4.3 in /usr/local/lib/python3.11/dist-packages (from huggingface-hub<1.0,>=0.24.0->transformers) (4.12.2)\n",
            "Requirement already satisfied: charset-normalizer<4,>=2 in /usr/local/lib/python3.11/dist-packages (from requests->transformers) (3.4.1)\n",
            "Requirement already satisfied: idna<4,>=2.5 in /usr/local/lib/python3.11/dist-packages (from requests->transformers) (3.10)\n",
            "Requirement already satisfied: urllib3<3,>=1.21.1 in /usr/local/lib/python3.11/dist-packages (from requests->transformers) (2.3.0)\n",
            "Requirement already satisfied: certifi>=2017.4.17 in /usr/local/lib/python3.11/dist-packages (from requests->transformers) (2025.1.31)\n"
          ]
        }
      ]
    },
    {
      "cell_type": "code",
      "source": [
        "from transformers import AutoModelForCausalLM, AutoTokenizer\n",
        "\n",
        "#load the model\n",
        "model = AutoModelForCausalLM.from_pretrained(\n",
        "    \"microsoft/Phi-3-mini-4k-instruct\",\n",
        "    device_map=\"cuda\",\n",
        "    torch_dtype=\"auto\",\n",
        "    trust_remote_code=True,\n",
        ")\n",
        "tokenizer = AutoTokenizer.from_pretrained(\"microsoft/Phi-3-mini-4k-instruct\")"
      ],
      "metadata": {
        "colab": {
          "base_uri": "https://localhost:8080/",
          "height": 176,
          "referenced_widgets": [
            "48821d25baea43cab75915346fc2c057",
            "109e44d7dab24eb382813d3295e60e4b",
            "d10d6cbb757a4dba8ad693d81d696f99",
            "4744f506fcfb49d0849a254bcad23674",
            "eef660ba26ee4e93833352a5e6966a59",
            "7859217133bf48e3bf43446859485852",
            "1500be4e65264222b2806d2b12f98978",
            "cd846e5d52904fe4a78cb5cb354307cf",
            "a01e07713fa74315a94f1bdaf0d3baf9",
            "3b752a719d044bae8a6fe910ffa54b5c",
            "9e75769a48b84bb2bcfecebdeba21185",
            "e11413900da94c29abe988f698a2b8c4",
            "5685538172e14a1e8927c80da92425db",
            "d24192b7bb8146bd8e8b0c5e73f19069"
          ]
        },
        "id": "HBwkA5YvP4sX",
        "outputId": "61c31ad3-b444-4512-aa7a-4e5450a4c647"
      },
      "execution_count": 4,
      "outputs": [
        {
          "output_type": "display_data",
          "data": {
            "text/plain": [
              "config.json:   0%|          | 0.00/967 [00:00<?, ?B/s]"
            ],
            "application/vnd.jupyter.widget-view+json": {
              "version_major": 2,
              "version_minor": 0,
              "model_id": "48821d25baea43cab75915346fc2c057"
            }
          },
          "metadata": {}
        },
        {
          "output_type": "display_data",
          "data": {
            "text/plain": [
              "configuration_phi3.py:   0%|          | 0.00/11.2k [00:00<?, ?B/s]"
            ],
            "application/vnd.jupyter.widget-view+json": {
              "version_major": 2,
              "version_minor": 0,
              "model_id": "109e44d7dab24eb382813d3295e60e4b"
            }
          },
          "metadata": {}
        },
        {
          "output_type": "stream",
          "name": "stderr",
          "text": [
            "A new version of the following files was downloaded from https://huggingface.co/microsoft/Phi-3-mini-4k-instruct:\n",
            "- configuration_phi3.py\n",
            ". Make sure to double-check they do not contain any added malicious code. To avoid downloading new versions of the code file, you can pin a revision.\n"
          ]
        },
        {
          "output_type": "display_data",
          "data": {
            "text/plain": [
              "modeling_phi3.py:   0%|          | 0.00/73.2k [00:00<?, ?B/s]"
            ],
            "application/vnd.jupyter.widget-view+json": {
              "version_major": 2,
              "version_minor": 0,
              "model_id": "d10d6cbb757a4dba8ad693d81d696f99"
            }
          },
          "metadata": {}
        },
        {
          "output_type": "stream",
          "name": "stderr",
          "text": [
            "A new version of the following files was downloaded from https://huggingface.co/microsoft/Phi-3-mini-4k-instruct:\n",
            "- modeling_phi3.py\n",
            ". Make sure to double-check they do not contain any added malicious code. To avoid downloading new versions of the code file, you can pin a revision.\n",
            "WARNING:transformers_modules.microsoft.Phi-3-mini-4k-instruct.0a67737cc96d2554230f90338b163bc6380a2a85.modeling_phi3:`flash-attention` package not found, consider installing for better performance: No module named 'flash_attn'.\n",
            "WARNING:transformers_modules.microsoft.Phi-3-mini-4k-instruct.0a67737cc96d2554230f90338b163bc6380a2a85.modeling_phi3:Current `flash-attention` does not support `window_size`. Either upgrade or use `attn_implementation='eager'`.\n"
          ]
        },
        {
          "output_type": "display_data",
          "data": {
            "text/plain": [
              "model.safetensors.index.json:   0%|          | 0.00/16.5k [00:00<?, ?B/s]"
            ],
            "application/vnd.jupyter.widget-view+json": {
              "version_major": 2,
              "version_minor": 0,
              "model_id": "4744f506fcfb49d0849a254bcad23674"
            }
          },
          "metadata": {}
        },
        {
          "output_type": "display_data",
          "data": {
            "text/plain": [
              "Downloading shards:   0%|          | 0/2 [00:00<?, ?it/s]"
            ],
            "application/vnd.jupyter.widget-view+json": {
              "version_major": 2,
              "version_minor": 0,
              "model_id": "eef660ba26ee4e93833352a5e6966a59"
            }
          },
          "metadata": {}
        },
        {
          "output_type": "display_data",
          "data": {
            "text/plain": [
              "model-00001-of-00002.safetensors:   0%|          | 0.00/4.97G [00:00<?, ?B/s]"
            ],
            "application/vnd.jupyter.widget-view+json": {
              "version_major": 2,
              "version_minor": 0,
              "model_id": "7859217133bf48e3bf43446859485852"
            }
          },
          "metadata": {}
        },
        {
          "output_type": "display_data",
          "data": {
            "text/plain": [
              "model-00002-of-00002.safetensors:   0%|          | 0.00/2.67G [00:00<?, ?B/s]"
            ],
            "application/vnd.jupyter.widget-view+json": {
              "version_major": 2,
              "version_minor": 0,
              "model_id": "1500be4e65264222b2806d2b12f98978"
            }
          },
          "metadata": {}
        },
        {
          "output_type": "display_data",
          "data": {
            "text/plain": [
              "Loading checkpoint shards:   0%|          | 0/2 [00:00<?, ?it/s]"
            ],
            "application/vnd.jupyter.widget-view+json": {
              "version_major": 2,
              "version_minor": 0,
              "model_id": "cd846e5d52904fe4a78cb5cb354307cf"
            }
          },
          "metadata": {}
        },
        {
          "output_type": "display_data",
          "data": {
            "text/plain": [
              "generation_config.json:   0%|          | 0.00/181 [00:00<?, ?B/s]"
            ],
            "application/vnd.jupyter.widget-view+json": {
              "version_major": 2,
              "version_minor": 0,
              "model_id": "a01e07713fa74315a94f1bdaf0d3baf9"
            }
          },
          "metadata": {}
        },
        {
          "output_type": "display_data",
          "data": {
            "text/plain": [
              "tokenizer_config.json:   0%|          | 0.00/3.44k [00:00<?, ?B/s]"
            ],
            "application/vnd.jupyter.widget-view+json": {
              "version_major": 2,
              "version_minor": 0,
              "model_id": "3b752a719d044bae8a6fe910ffa54b5c"
            }
          },
          "metadata": {}
        },
        {
          "output_type": "display_data",
          "data": {
            "text/plain": [
              "tokenizer.model:   0%|          | 0.00/500k [00:00<?, ?B/s]"
            ],
            "application/vnd.jupyter.widget-view+json": {
              "version_major": 2,
              "version_minor": 0,
              "model_id": "9e75769a48b84bb2bcfecebdeba21185"
            }
          },
          "metadata": {}
        },
        {
          "output_type": "display_data",
          "data": {
            "text/plain": [
              "tokenizer.json:   0%|          | 0.00/1.94M [00:00<?, ?B/s]"
            ],
            "application/vnd.jupyter.widget-view+json": {
              "version_major": 2,
              "version_minor": 0,
              "model_id": "e11413900da94c29abe988f698a2b8c4"
            }
          },
          "metadata": {}
        },
        {
          "output_type": "display_data",
          "data": {
            "text/plain": [
              "added_tokens.json:   0%|          | 0.00/306 [00:00<?, ?B/s]"
            ],
            "application/vnd.jupyter.widget-view+json": {
              "version_major": 2,
              "version_minor": 0,
              "model_id": "5685538172e14a1e8927c80da92425db"
            }
          },
          "metadata": {}
        },
        {
          "output_type": "display_data",
          "data": {
            "text/plain": [
              "special_tokens_map.json:   0%|          | 0.00/599 [00:00<?, ?B/s]"
            ],
            "application/vnd.jupyter.widget-view+json": {
              "version_major": 2,
              "version_minor": 0,
              "model_id": "d24192b7bb8146bd8e8b0c5e73f19069"
            }
          },
          "metadata": {}
        }
      ]
    },
    {
      "cell_type": "code",
      "source": [
        "from transformers import pipeline\n",
        "\n",
        "# Create a pipeline\n",
        "generator = pipeline(\n",
        "    \"text-generation\",\n",
        "    model=model,\n",
        "    tokenizer=tokenizer,\n",
        "    return_full_text=False,\n",
        "    max_new_tokens=500,\n",
        "    do_sample=False\n",
        ")"
      ],
      "metadata": {
        "id": "soxSvm7kQbu_",
        "colab": {
          "base_uri": "https://localhost:8080/"
        },
        "outputId": "8a57e542-d4a1-4d9c-89fb-36c621b4b545"
      },
      "execution_count": 5,
      "outputs": [
        {
          "output_type": "stream",
          "name": "stderr",
          "text": [
            "Device set to use cuda\n"
          ]
        }
      ]
    },
    {
      "cell_type": "code",
      "source": [
        "messages = [\n",
        "    {\"role\": \"user\", \"content\": \"Hello\"}\n",
        "]\n",
        "\n",
        "# Generate output\n",
        "output = generator(messages)\n",
        "print(output[0][\"generated_text\"])"
      ],
      "metadata": {
        "colab": {
          "base_uri": "https://localhost:8080/"
        },
        "id": "4xSHOGkFTN9Q",
        "outputId": "dd9a61ae-dbca-4467-d8b4-0c63d5b41853"
      },
      "execution_count": 7,
      "outputs": [
        {
          "output_type": "stream",
          "name": "stdout",
          "text": [
            " Hello! How can I assist you today?\n"
          ]
        }
      ]
    },
    {
      "cell_type": "code",
      "source": [
        "messages = [\n",
        "    {\"role\": \"user\", \"content\": \"Write a python code for calculator\"}\n",
        "]\n",
        "\n",
        "# Generate output\n",
        "output = generator(messages)\n",
        "print(output[0][\"generated_text\"])"
      ],
      "metadata": {
        "colab": {
          "base_uri": "https://localhost:8080/"
        },
        "id": "1oFjwgH2Td6H",
        "outputId": "d2960703-5ae0-4b79-adfd-d9963170ad4b"
      },
      "execution_count": 8,
      "outputs": [
        {
          "output_type": "stream",
          "name": "stdout",
          "text": [
            " Certainly! Below is a simple Python code for a basic calculator that can perform addition, subtraction, multiplication, and division. It prompts the user to choose an operation and then asks for two numbers to perform the chosen operation.\n",
            "\n",
            "```python\n",
            "def add(x, y):\n",
            "    \"\"\"Add Function\"\"\"\n",
            "    return x + y\n",
            "\n",
            "def subtract(x, y):\n",
            "    \"\"\"Subtract Function\"\"\"\n",
            "    return x - y\n",
            "\n",
            "def multiply(x, y):\n",
            "    \"\"\"Multiply Function\"\"\"\n",
            "    return x * y\n",
            "\n",
            "def divide(x, y):\n",
            "    \"\"\"Divide Function\"\"\"\n",
            "    if y == 0:\n",
            "        return \"Error! Division by zero.\"\n",
            "    else:\n",
            "        return x / y\n",
            "\n",
            "print(\"Select operation:\")\n",
            "print(\"1. Add\")\n",
            "print(\"2. Subtract\")\n",
            "print(\"3. Multiply\")\n",
            "print(\"4. Divide\")\n",
            "\n",
            "while True:\n",
            "    choice = input(\"Enter choice(1/2/3/4): \")\n",
            "\n",
            "    if choice in ('1', '2', '3', '4'):\n",
            "        num1 = float(input(\"Enter first number: \"))\n",
            "        num2 = float(input(\"Enter second number: \"))\n",
            "\n",
            "        if choice == '1':\n",
            "            print(f\"{num1} + {num2} = {add(num1, num2)}\")\n",
            "\n",
            "        elif choice == '2':\n",
            "            print(f\"{num1} - {num2} = {subtract(num1, num2)}\")\n",
            "\n",
            "        elif choice == '3':\n",
            "            print(f\"{num1} * {num2} = {multiply(num1, num2)}\")\n",
            "\n",
            "        elif choice == '4':\n",
            "            result = divide(num1, num2)\n",
            "            if isinstance(result, str):\n",
            "                print(result)\n",
            "            else:\n",
            "                print(f\"{num1} / {num2} = {result}\")\n",
            "\n",
            "        # Ask the user if they want to perform another calculation\n",
            "        another_calculation = input(\"Do you want to perform another calculation? (yes/no): \")\n",
            "        if another_calculation.lower()!= 'yes':\n",
            "\n"
          ]
        }
      ]
    },
    {
      "cell_type": "code",
      "source": [],
      "metadata": {
        "id": "xKc7KRi6TmsY"
      },
      "execution_count": null,
      "outputs": []
    }
  ]
}